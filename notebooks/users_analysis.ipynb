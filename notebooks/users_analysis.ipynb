{
 "cells": [
  {
   "cell_type": "code",
   "execution_count": 1,
   "metadata": {},
   "outputs": [
    {
     "name": "stdout",
     "output_type": "stream",
     "text": [
      "        MSISDN/Number  Dur. (ms)  Youtube DL (Bytes)  Netflix DL (Bytes)  \\\n",
      "0        3.360100e+10   116720.0          14900201.0          10265105.0   \n",
      "1        3.360100e+10   181230.0           5324251.0            770569.0   \n",
      "2        3.360100e+10   134969.0           2137272.0          16525919.0   \n",
      "3        3.360101e+10    49878.0           4393123.0           1157362.0   \n",
      "4        3.360101e+10    37104.0          10339971.0          24971647.0   \n",
      "...               ...        ...                 ...                 ...   \n",
      "106851   3.379000e+10     8810.0           8294310.0          14754741.0   \n",
      "106852   3.379000e+10   140988.0           5596862.0           6929961.0   \n",
      "106853   3.197021e+12   877385.0           9839889.0          10340908.0   \n",
      "106854   3.370000e+14   253030.0          16690728.0           9983678.0   \n",
      "106855   8.823971e+14   869844.0          18980320.0          21621336.0   \n",
      "\n",
      "        Gaming DL (Bytes)  Other DL (Bytes)  Total UL (Bytes)  \\\n",
      "0            8.110911e+08       377096990.0        36053108.0   \n",
      "1            1.050353e+08       279557701.0        36104459.0   \n",
      "2            5.290685e+08       495086501.0        39306820.0   \n",
      "3            3.880748e+08        25248001.0        20327526.0   \n",
      "4            1.308981e+09       777643713.0        94280527.0   \n",
      "...                   ...               ...               ...   \n",
      "106851       6.573267e+08       291391283.0        26716429.0   \n",
      "106852       4.276202e+08       204636073.0        35732243.0   \n",
      "106853       1.645636e+08       467678100.0        37295915.0   \n",
      "106854       5.012590e+08       144354057.0        56652839.0   \n",
      "106855       2.809228e+07       389159720.0        60456049.0   \n",
      "\n",
      "        Total DL (Bytes)  \n",
      "0           8.426375e+08  \n",
      "1           1.207552e+08  \n",
      "2           5.566597e+08  \n",
      "3           4.019932e+08  \n",
      "4           1.363130e+09  \n",
      "...                  ...  \n",
      "106851      6.879252e+08  \n",
      "106852      4.445751e+08  \n",
      "106853      1.948281e+08  \n",
      "106854      5.396350e+08  \n",
      "106855      7.869760e+07  \n",
      "\n",
      "[106856 rows x 8 columns]\n"
     ]
    }
   ],
   "source": [
    "import pandas as pd\n",
    "\n",
    "# Load your dataset into a DataFrame\n",
    "df = pd.read_csv('xdr_data.csv')\n",
    "\n",
    "# Assuming 'Dur. (ms)' represents session duration and other columns represent data usage for different applications\n",
    "\n",
    "# Aggregate session duration (in milliseconds) to get total session duration per user\n",
    "session_duration = df.groupby('MSISDN/Number')['Dur. (ms)'].sum()\n",
    "\n",
    "# Aggregate data usage for different applications\n",
    "data_usage = df.groupby('MSISDN/Number')[['Youtube DL (Bytes)', 'Netflix DL (Bytes)', 'Gaming DL (Bytes)', 'Other DL (Bytes)', 'Total UL (Bytes)', 'Total DL (Bytes)']].sum()\n",
    "\n",
    "# Concatenate the aggregated metrics into a single DataFrame\n",
    "aggregated_metrics = pd.concat([session_duration, data_usage], axis=1)\n",
    "\n",
    "# Reset index to make 'MSISDN/Number' a regular column\n",
    "aggregated_metrics.reset_index(inplace=True)\n",
    "\n",
    "# Display the aggregated metrics\n",
    "print(aggregated_metrics)\n"
   ]
  },
  {
   "cell_type": "code",
   "execution_count": null,
   "metadata": {},
   "outputs": [],
   "source": []
  }
 ],
 "metadata": {
  "kernelspec": {
   "display_name": "venv",
   "language": "python",
   "name": "python3"
  },
  "language_info": {
   "codemirror_mode": {
    "name": "ipython",
    "version": 3
   },
   "file_extension": ".py",
   "mimetype": "text/x-python",
   "name": "python",
   "nbconvert_exporter": "python",
   "pygments_lexer": "ipython3",
   "version": "3.12.0"
  }
 },
 "nbformat": 4,
 "nbformat_minor": 2
}
